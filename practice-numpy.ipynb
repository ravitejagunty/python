{
 "cells": [
  {
   "cell_type": "code",
   "execution_count": null,
   "id": "0ccdbe73-f86d-4b51-96cc-ca1ddb1191de",
   "metadata": {},
   "outputs": [],
   "source": [
    "def f(x):\n",
    "    return x**2\n",
    "\n",
    "sqaure = [f(i) for i in range (1,10)]\n",
    "print(sqaure)"
   ]
  },
  {
   "cell_type": "code",
   "execution_count": null,
   "id": "a22f4501-1fa4-48e2-9466-ef19325d7475",
   "metadata": {},
   "outputs": [],
   "source": [
    "str = ['hello',24,0.156,'false']\n",
    "str[3]\n",
    "str[2] = 0.146\n",
    "print(str)"
   ]
  },
  {
   "cell_type": "code",
   "execution_count": null,
   "id": "fb86c9f3-52e8-43b1-8247-8b90a020cce4",
   "metadata": {},
   "outputs": [],
   "source": [
    "inp_dict = {'a': 23, 'b': 40, 'c':34}\n",
    "out_dict = []\n",
    "for i in inp_dict:\n",
    "    if inp_dict[i] > 25:\n",
    "        out_dict.append(inp_dict[i])\n",
    "print(out_dict)\n",
    "        "
   ]
  },
  {
   "cell_type": "code",
   "execution_count": null,
   "id": "00973d84-eb20-40e8-8220-7b616be79899",
   "metadata": {},
   "outputs": [],
   "source": [
    "import random\n",
    "random_val = random.randint(1,50)\n",
    "print(random_val)"
   ]
  },
  {
   "cell_type": "code",
   "execution_count": null,
   "id": "53a7b345-f758-404e-93a0-2f5018f0bb1e",
   "metadata": {},
   "outputs": [],
   "source": [
    "marks_dict = {'math': 45, 'science': 89, 'physics': 90}\n",
    "output_list = []\n",
    "z = list(marks_dict.values())\n",
    "if z[0] >= 75:\n",
    "    output_list.append(z[0])\n",
    "if z[1] >= 75:\n",
    "    output_list.append(z[1])\n",
    "if z[2] >= 75:\n",
    "    output_list.append(z[2])\n",
    "    \n",
    "output_list"
   ]
  },
  {
   "cell_type": "code",
   "execution_count": null,
   "id": "def93bd7-e259-4e9c-99cc-dca82fb740eb",
   "metadata": {},
   "outputs": [],
   "source": [
    "sum =0\n",
    "for i in range(0,100):\n",
    "    sum *= i\n",
    "print(sum)\n",
    "    "
   ]
  },
  {
   "cell_type": "code",
   "execution_count": null,
   "id": "7d2aca32-7dd0-4806-b16c-ca37a7aa2e16",
   "metadata": {},
   "outputs": [],
   "source": [
    "\n",
    "even_list = [i**2  for i in range(1,10) if i %2 ==0  ]\n",
    "even_list"
   ]
  },
  {
   "cell_type": "code",
   "execution_count": null,
   "id": "e058a725-7ea6-47ba-8272-1dfa9fa1051a",
   "metadata": {},
   "outputs": [],
   "source": [
    "for x in range(4,6):\n",
    "    for y in range(1,11):\n",
    "        print('{} * {} = {}'.format(x,y,x*y))\n"
   ]
  },
  {
   "cell_type": "code",
   "execution_count": null,
   "id": "012c4802-05b6-4b1d-a255-13d241594ed7",
   "metadata": {},
   "outputs": [],
   "source": [
    "i = 0\n",
    "while i <=5:\n",
    "    print(i)\n",
    "    i = i +1"
   ]
  },
  {
   "cell_type": "code",
   "execution_count": null,
   "id": "b789348f-7e0b-4472-ba5b-a018dd68882f",
   "metadata": {},
   "outputs": [],
   "source": [
    "statement = 'my name is shreedhar and I am 22 years old'\n",
    "number = [i  for i in statement if i.isdigit()]\n",
    "print(number)"
   ]
  },
  {
   "cell_type": "code",
   "execution_count": null,
   "id": "179bca10-f4c1-487a-b49f-287fbc6141d2",
   "metadata": {},
   "outputs": [],
   "source": [
    "names = ['sam', 'kate','aj', 'moen','john']\n",
    "i = 0\n",
    "while i < len(names):\n",
    "    name = names[i]\n",
    "    i += 1\n",
    "    \n",
    "    if name == 'kate':\n",
    "        continue\n",
    "    \n",
    "    print(name)"
   ]
  },
  {
   "cell_type": "code",
   "execution_count": null,
   "id": "a732ad3a-6820-489d-86ac-2bd67af1769f",
   "metadata": {},
   "outputs": [],
   "source": [
    "some_list = []\n",
    "\n",
    "for i in range(10):\n",
    "  some_list.append(f(i))\n",
    "print(some_list)"
   ]
  },
  {
   "cell_type": "markdown",
   "id": "611f6bc6-defb-4169-9a7a-495cb6a5e7d2",
   "metadata": {},
   "source": [
    "Numpy practices"
   ]
  },
  {
   "cell_type": "code",
   "execution_count": 3,
   "id": "1f93c0d1-412c-462b-8a6f-f46bcaf0a9dc",
   "metadata": {},
   "outputs": [
    {
     "name": "stdout",
     "output_type": "stream",
     "text": [
      "[[1 2 3]\n",
      " [4 5 6]\n",
      " [7 8 9]]\n",
      "1\n",
      "9\n"
     ]
    }
   ],
   "source": [
    "import numpy as np\n",
    "matrix = np.arange(1,10)\n",
    "arr_to_matrix = matrix.reshape(3,3)\n",
    "print(arr_to_matrix)\n",
    "print(np.min(arr_to_matrix))\n",
    "print(np.max(arr_to_matrix))"
   ]
  },
  {
   "cell_type": "code",
   "execution_count": 5,
   "id": "b8e84eb9-ec93-449d-bc65-9da747f60721",
   "metadata": {},
   "outputs": [
    {
     "name": "stdout",
     "output_type": "stream",
     "text": [
      "mean -0.1895114272492109\n",
      "std 0.98493171461813\n"
     ]
    }
   ],
   "source": [
    "random_mat = np.random.randn(5,5)\n",
    "random_mat\n",
    "print('mean', np.mean(random_mat))\n",
    "print('std', np.std(random_mat))"
   ]
  },
  {
   "cell_type": "code",
   "execution_count": 7,
   "id": "34561ee3-4bfb-4b1b-ad82-73f6bd9e7f59",
   "metadata": {},
   "outputs": [
    {
     "data": {
      "text/plain": [
       "array([[4, 2, 1, 1, 2],\n",
       "       [2, 1, 4, 1, 4],\n",
       "       [4, 1, 3, 1, 1],\n",
       "       [1, 3, 1, 3, 1],\n",
       "       [4, 2, 2, 1, 2]])"
      ]
     },
     "execution_count": 7,
     "metadata": {},
     "output_type": "execute_result"
    }
   ],
   "source": [
    "random_int = np.random.randint(1,5,[5,5])\n",
    "random_int"
   ]
  },
  {
   "cell_type": "code",
   "execution_count": 9,
   "id": "72557d26-a73f-4a7a-84cc-8c87a9dbbdcc",
   "metadata": {},
   "outputs": [
    {
     "name": "stdout",
     "output_type": "stream",
     "text": [
      "-9\n",
      "-1\n"
     ]
    }
   ],
   "source": [
    "mat1 = np.arange(-9,0,1).reshape(3,3)\n",
    "print(np.min(mat1))\n",
    "print(np.max(mat1))"
   ]
  },
  {
   "cell_type": "code",
   "execution_count": 13,
   "id": "bb7838b6-f06c-4cc4-828b-7f674d938c36",
   "metadata": {},
   "outputs": [
    {
     "name": "stdout",
     "output_type": "stream",
     "text": [
      "[0.5546279  0.56095358 0.55005915 0.94485227]\n"
     ]
    }
   ],
   "source": [
    "rand_arr = np.random.rand(10)\n",
    "print(rand_arr[rand_arr>0.5])"
   ]
  },
  {
   "cell_type": "code",
   "execution_count": 15,
   "id": "8bbe49ee-8f40-4b0e-af1a-a19fce9aea20",
   "metadata": {},
   "outputs": [
    {
     "data": {
      "text/plain": [
       "array([[ 0.23846314,  1.75056161, -0.95317073,  0.94067433, -0.49998634],\n",
       "       [-0.14804783, -1.21337863,  1.23425477,  0.93522297,  1.1498059 ],\n",
       "       [-0.76348313,  0.5372772 ,  0.47579413,  0.21228912,  0.43507744],\n",
       "       [ 0.03250608, -0.40612034, -0.25604249, -0.04269301,  0.3599114 ],\n",
       "       [ 1.53905631, -0.15369529, -0.23695191, -0.61421697,  0.51554935]])"
      ]
     },
     "execution_count": 15,
     "metadata": {},
     "output_type": "execute_result"
    }
   ],
   "source": [
    "rand_norm_dist = np.random.randn(5,5)\n",
    "rand_norm_dist"
   ]
  },
  {
   "cell_type": "code",
   "execution_count": 17,
   "id": "06a6a0b0-1784-46a7-b9ff-4a747941fcce",
   "metadata": {},
   "outputs": [
    {
     "data": {
      "text/plain": [
       "array([-0.14804783, -1.21337863,  1.23425477,  0.93522297,  1.1498059 ])"
      ]
     },
     "execution_count": 17,
     "metadata": {},
     "output_type": "execute_result"
    }
   ],
   "source": [
    "rand_norm_dist[1]"
   ]
  },
  {
   "cell_type": "code",
   "execution_count": 19,
   "id": "6c275b0f-c94f-422a-8451-463f806197b4",
   "metadata": {},
   "outputs": [
    {
     "data": {
      "text/plain": [
       "1.2342547679639564"
      ]
     },
     "execution_count": 19,
     "metadata": {},
     "output_type": "execute_result"
    }
   ],
   "source": [
    "rand_norm_dist[1,2]"
   ]
  },
  {
   "cell_type": "code",
   "execution_count": 21,
   "id": "0eebd0ba-e3c6-4536-b864-9bb71421741e",
   "metadata": {},
   "outputs": [
    {
     "data": {
      "text/plain": [
       "array([[ 1.75056161, -0.95317073],\n",
       "       [-1.21337863,  1.23425477]])"
      ]
     },
     "execution_count": 21,
     "metadata": {},
     "output_type": "execute_result"
    }
   ],
   "source": [
    "rand_norm_dist[0:2, 1:3]"
   ]
  },
  {
   "cell_type": "code",
   "execution_count": 23,
   "id": "54c7f8f8-a5a6-4b31-b254-a84cca5af183",
   "metadata": {},
   "outputs": [],
   "source": [
    "rand_norm_dist[1,1] = 2"
   ]
  },
  {
   "cell_type": "code",
   "execution_count": 25,
   "id": "b52b9931-3b55-42f0-a094-3fdee86092a2",
   "metadata": {},
   "outputs": [
    {
     "data": {
      "text/plain": [
       "array([[ 0.23846314,  1.75056161, -0.95317073,  0.94067433, -0.49998634],\n",
       "       [-0.14804783,  2.        ,  1.23425477,  0.93522297,  1.1498059 ],\n",
       "       [-0.76348313,  0.5372772 ,  0.47579413,  0.21228912,  0.43507744],\n",
       "       [ 0.03250608, -0.40612034, -0.25604249, -0.04269301,  0.3599114 ],\n",
       "       [ 1.53905631, -0.15369529, -0.23695191, -0.61421697,  0.51554935]])"
      ]
     },
     "execution_count": 25,
     "metadata": {},
     "output_type": "execute_result"
    }
   ],
   "source": [
    "rand_norm_dist"
   ]
  },
  {
   "cell_type": "code",
   "execution_count": 29,
   "id": "86453a7c-df1b-46ae-a874-304928d91e45",
   "metadata": {},
   "outputs": [],
   "source": [
    "rand_norm_dist[1:4,1:4] = 2"
   ]
  },
  {
   "cell_type": "code",
   "execution_count": 31,
   "id": "384740f5-428c-4816-922f-e7a77bef452c",
   "metadata": {},
   "outputs": [
    {
     "data": {
      "text/plain": [
       "array([[ 0.23846314,  1.75056161, -0.95317073,  0.94067433, -0.49998634],\n",
       "       [-0.14804783,  2.        ,  2.        ,  2.        ,  1.1498059 ],\n",
       "       [-0.76348313,  2.        ,  2.        ,  2.        ,  0.43507744],\n",
       "       [ 0.03250608,  2.        ,  2.        ,  2.        ,  0.3599114 ],\n",
       "       [ 1.53905631, -0.15369529, -0.23695191, -0.61421697,  0.51554935]])"
      ]
     },
     "execution_count": 31,
     "metadata": {},
     "output_type": "execute_result"
    }
   ],
   "source": [
    "rand_norm_dist"
   ]
  },
  {
   "cell_type": "code",
   "execution_count": 33,
   "id": "0428ef16-918d-4c4d-add7-3ffb9b98f64d",
   "metadata": {},
   "outputs": [
    {
     "name": "stdout",
     "output_type": "stream",
     "text": [
      "5\n"
     ]
    }
   ],
   "source": [
    "matrix = np.array([[1,2,3],[4,5,6],[7,8,9]])\n",
    "print(matrix[1][1])"
   ]
  },
  {
   "cell_type": "code",
   "execution_count": 35,
   "id": "f7f9271d-611e-465c-b0eb-399a5db60993",
   "metadata": {},
   "outputs": [
    {
     "data": {
      "text/plain": [
       "array([[ 0.23846314,  1.75056161, -0.95317073,  0.94067433, -0.49998634],\n",
       "       [-0.14804783,  2.        ,  2.        ,  2.        ,  1.1498059 ],\n",
       "       [-0.76348313,  2.        ,  2.        ,  2.        ,  0.43507744],\n",
       "       [ 0.03250608,  2.        ,  2.        ,  2.        ,  0.3599114 ],\n",
       "       [ 1.53905631, -0.15369529, -0.23695191, -0.61421697,  0.51554935]])"
      ]
     },
     "execution_count": 35,
     "metadata": {},
     "output_type": "execute_result"
    }
   ],
   "source": [
    "rand_norm_dist"
   ]
  },
  {
   "cell_type": "code",
   "execution_count": 39,
   "id": "b6ee5147-7e1e-4b8e-9249-adc7be021fe6",
   "metadata": {},
   "outputs": [
    {
     "data": {
      "text/plain": [
       "array([[ 0.23846314,  1.75056161, -0.95317073],\n",
       "       [-0.14804783,  2.        ,  2.        ],\n",
       "       [-0.76348313,  2.        ,  2.        ]])"
      ]
     },
     "execution_count": 39,
     "metadata": {},
     "output_type": "execute_result"
    }
   ],
   "source": [
    "new_mat = rand_norm_dist[0:3,0:3]\n",
    "new_mat"
   ]
  },
  {
   "cell_type": "code",
   "execution_count": 41,
   "id": "9eecf9c0-feea-4d07-81e9-f55f482acead",
   "metadata": {},
   "outputs": [
    {
     "name": "stdout",
     "output_type": "stream",
     "text": [
      "[[1 0 3]\n",
      " [4 0 6]\n",
      " [7 8 9]]\n"
     ]
    }
   ],
   "source": [
    "matrix = np.arange(1,10).reshape(3,3)\n",
    "matrix[0:2,1:2] = 0\n",
    "print(matrix)"
   ]
  },
  {
   "cell_type": "code",
   "execution_count": 47,
   "id": "72334d56-311a-4e15-9856-53a77f49f697",
   "metadata": {},
   "outputs": [
    {
     "name": "stdout",
     "output_type": "stream",
     "text": [
      "[[  1   2   3]\n",
      " [  4 124   6]\n",
      " [  7   8   9]]\n",
      "[[1 2 3]\n",
      " [4 5 6]\n",
      " [7 8 9]]\n"
     ]
    }
   ],
   "source": [
    "import numpy as np\n",
    "array1 = np.array([[1,2,3],[4,5,6],[7,8,9]])\n",
    "array2 = array1.copy()\n",
    "array2[1,1] = 124\n",
    "print(array2)\n",
    "print(array1)"
   ]
  },
  {
   "cell_type": "code",
   "execution_count": 53,
   "id": "fd2af3d2-781b-4c32-805c-a294b8fa80bf",
   "metadata": {},
   "outputs": [],
   "source": [
    "np.savez('/Users/ravs/Desktop/UTA-AIML/random_matrix',rand_norm_dist=rand_norm_dist,new_mat=new_mat)"
   ]
  },
  {
   "cell_type": "code",
   "execution_count": 77,
   "id": "aab0a7d6-ea9d-4c33-a781-04ea2b3f63fa",
   "metadata": {},
   "outputs": [],
   "source": [
    "load_multi = np.load('/Users/ravs/Desktop/UTA-AIML/random_matrix.npz')"
   ]
  },
  {
   "cell_type": "code",
   "execution_count": 69,
   "id": "cdf49f4a-8b22-4a38-9fdc-cfaf3de8b7d5",
   "metadata": {},
   "outputs": [
    {
     "data": {
      "text/plain": [
       "array([[ 0.23846314,  1.75056161, -0.95317073,  0.94067433, -0.49998634],\n",
       "       [-0.14804783,  2.        ,  2.        ,  2.        ,  1.1498059 ],\n",
       "       [-0.76348313,  2.        ,  2.        ,  2.        ,  0.43507744],\n",
       "       [ 0.03250608,  2.        ,  2.        ,  2.        ,  0.3599114 ],\n",
       "       [ 1.53905631, -0.15369529, -0.23695191, -0.61421697,  0.51554935]])"
      ]
     },
     "execution_count": 69,
     "metadata": {},
     "output_type": "execute_result"
    }
   ],
   "source": [
    "load_multi['rand_norm_dist']"
   ]
  },
  {
   "cell_type": "code",
   "execution_count": 73,
   "id": "2c0a3f9b-c130-4a85-8f8d-ba0eef720840",
   "metadata": {},
   "outputs": [],
   "source": [
    "np.savetxt('/Users/ravs/Desktop/UTA-AIML/random_matrix.txt',rand_norm_dist,delimiter=',')"
   ]
  },
  {
   "cell_type": "code",
   "execution_count": null,
   "id": "0c1e4e55-993c-4b4e-a9ae-2c40bd16d70d",
   "metadata": {},
   "outputs": [],
   "source": [
    "import pandas as pd"
   ]
  },
  {
   "cell_type": "code",
   "execution_count": null,
   "id": "55e5728e",
   "metadata": {},
   "outputs": [],
   "source": []
  }
 ],
 "metadata": {
  "kernelspec": {
   "display_name": "Python 3 (ipykernel)",
   "language": "python",
   "name": "python3"
  },
  "language_info": {
   "codemirror_mode": {
    "name": "ipython",
    "version": 3
   },
   "file_extension": ".py",
   "mimetype": "text/x-python",
   "name": "python",
   "nbconvert_exporter": "python",
   "pygments_lexer": "ipython3",
   "version": "3.12.4"
  }
 },
 "nbformat": 4,
 "nbformat_minor": 5
}
